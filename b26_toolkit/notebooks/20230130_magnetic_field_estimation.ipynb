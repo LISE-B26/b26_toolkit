{
 "cells": [
  {
   "cell_type": "code",
   "execution_count": 26,
   "id": "6cdf196c",
   "metadata": {},
   "outputs": [],
   "source": [
    "f1 = 2.4350e9\n",
    "dz = 100e-9\n",
    "f2 = 2.4936e9"
   ]
  },
  {
   "cell_type": "code",
   "execution_count": 27,
   "id": "894c5d84",
   "metadata": {},
   "outputs": [],
   "source": [
    "def get_gradB(dz,df):\n",
    "    dB = abs(df)/(dz) * 1/ (2.8e10)\n",
    "    return dB\n",
    "    "
   ]
  },
  {
   "cell_type": "code",
   "execution_count": 28,
   "id": "66d28711",
   "metadata": {},
   "outputs": [
    {
     "data": {
      "text/plain": [
       "20928.571428571428"
      ]
     },
     "execution_count": 28,
     "metadata": {},
     "output_type": "execute_result"
    }
   ],
   "source": [
    "get_gradB(dz,f1-f2)"
   ]
  },
  {
   "cell_type": "code",
   "execution_count": 25,
   "id": "cd8df947",
   "metadata": {},
   "outputs": [
    {
     "data": {
      "text/plain": [
       "2.88835"
      ]
     },
     "execution_count": 25,
     "metadata": {},
     "output_type": "execute_result"
    }
   ],
   "source": [
    "(3.3213+2.4554)/2"
   ]
  },
  {
   "cell_type": "code",
   "execution_count": 18,
   "id": "c10894a4",
   "metadata": {},
   "outputs": [
    {
     "data": {
      "text/plain": [
       "2.8698"
      ]
     },
     "execution_count": 18,
     "metadata": {},
     "output_type": "execute_result"
    }
   ],
   "source": [
    "import numpy as np\n",
    "np.mean((3.2669,2.4727))"
   ]
  },
  {
   "cell_type": "code",
   "execution_count": null,
   "id": "252ce1ff",
   "metadata": {},
   "outputs": [],
   "source": []
  }
 ],
 "metadata": {
  "kernelspec": {
   "display_name": "Python 3",
   "language": "python",
   "name": "python3"
  },
  "language_info": {
   "codemirror_mode": {
    "name": "ipython",
    "version": 3
   },
   "file_extension": ".py",
   "mimetype": "text/x-python",
   "name": "python",
   "nbconvert_exporter": "python",
   "pygments_lexer": "ipython3",
   "version": "3.6.2"
  }
 },
 "nbformat": 4,
 "nbformat_minor": 5
}
