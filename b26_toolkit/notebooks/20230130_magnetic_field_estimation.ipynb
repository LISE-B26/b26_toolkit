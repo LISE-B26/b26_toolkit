{
 "cells": [
  {
   "cell_type": "code",
   "execution_count": 6,
   "id": "6cdf196c",
   "metadata": {},
   "outputs": [],
   "source": [
    "f1 = 2.3689e9\n",
    "dz = 200e-9\n",
    "f2 = 2.3665e9"
   ]
  },
  {
   "cell_type": "code",
   "execution_count": 7,
   "id": "894c5d84",
   "metadata": {},
   "outputs": [],
   "source": [
    "def get_gradB(dz,df):\n",
    "    dB = abs(df)/(dz) * 1/ (2.8e10)\n",
    "    return dB\n",
    "    "
   ]
  },
  {
   "cell_type": "code",
   "execution_count": 8,
   "id": "66d28711",
   "metadata": {},
   "outputs": [
    {
     "data": {
      "text/plain": [
       "428.57142857142856"
      ]
     },
     "execution_count": 8,
     "metadata": {},
     "output_type": "execute_result"
    }
   ],
   "source": [
    "get_gradB(dz,f1-f2)"
   ]
  },
  {
   "cell_type": "code",
   "execution_count": 25,
   "id": "cd8df947",
   "metadata": {},
   "outputs": [
    {
     "data": {
      "text/plain": [
       "2.88835"
      ]
     },
     "execution_count": 25,
     "metadata": {},
     "output_type": "execute_result"
    }
   ],
   "source": [
    "(3.3213+2.4554)/2"
   ]
  },
  {
   "cell_type": "code",
   "execution_count": 18,
   "id": "c10894a4",
   "metadata": {},
   "outputs": [
    {
     "data": {
      "text/plain": [
       "2.8698"
      ]
     },
     "execution_count": 18,
     "metadata": {},
     "output_type": "execute_result"
    }
   ],
   "source": [
    "import numpy as np\n",
    "np.mean((3.2669,2.4727))"
   ]
  },
  {
   "cell_type": "code",
   "execution_count": 1,
   "id": "252ce1ff",
   "metadata": {},
   "outputs": [
    {
     "ename": "NameError",
     "evalue": "name 'D' is not defined",
     "output_type": "error",
     "traceback": [
      "\u001b[1;31m---------------------------------------------------------------------------\u001b[0m",
      "\u001b[1;31mNameError\u001b[0m                                 Traceback (most recent call last)",
      "\u001b[1;32m<ipython-input-1-f9f5d6f8e176>\u001b[0m in \u001b[0;36m<module>\u001b[1;34m\u001b[0m\n\u001b[1;32m----> 1\u001b[1;33m \u001b[0mprint\u001b[0m\u001b[1;33m(\u001b[0m\u001b[0mD\u001b[0m\u001b[1;33m+\u001b[0m\u001b[0mdf\u001b[0m\u001b[1;33m)\u001b[0m\u001b[1;33m\u001b[0m\u001b[0m\n\u001b[0m\u001b[0;32m      2\u001b[0m \u001b[0mprint\u001b[0m\u001b[1;33m(\u001b[0m\u001b[0mD\u001b[0m\u001b[1;33m-\u001b[0m\u001b[0mdf\u001b[0m\u001b[1;33m)\u001b[0m\u001b[1;33m\u001b[0m\u001b[0m\n",
      "\u001b[1;31mNameError\u001b[0m: name 'D' is not defined"
     ]
    }
   ],
   "source": []
  },
  {
   "cell_type": "code",
   "execution_count": null,
   "id": "0c91284c",
   "metadata": {},
   "outputs": [],
   "source": []
  }
 ],
 "metadata": {
  "kernelspec": {
   "display_name": "Python 3",
   "language": "python",
   "name": "python3"
  },
  "language_info": {
   "codemirror_mode": {
    "name": "ipython",
    "version": 3
   },
   "file_extension": ".py",
   "mimetype": "text/x-python",
   "name": "python",
   "nbconvert_exporter": "python",
   "pygments_lexer": "ipython3",
   "version": "3.6.2"
  }
 },
 "nbformat": 4,
 "nbformat_minor": 5
}
